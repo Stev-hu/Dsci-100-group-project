{
 "cells": [
  {
   "cell_type": "code",
   "execution_count": 1,
   "id": "e9a4c2bc-4c95-4500-ad99-16d50f35ecea",
   "metadata": {},
   "outputs": [],
   "source": [
    "hi <- 3+5"
   ]
  },
  {
   "cell_type": "code",
   "execution_count": 2,
   "id": "7560f127-d7db-4473-8966-47798ad3e5d7",
   "metadata": {},
   "outputs": [
    {
     "data": {
      "text/html": [
       "8"
      ],
      "text/latex": [
       "8"
      ],
      "text/markdown": [
       "8"
      ],
      "text/plain": [
       "[1] 8"
      ]
     },
     "metadata": {},
     "output_type": "display_data"
    }
   ],
   "source": [
    "hi"
   ]
  },
  {
   "cell_type": "code",
   "execution_count": null,
   "id": "0f17c46a-100e-4338-bb67-ada8a916f036",
   "metadata": {},
   "outputs": [],
   "source": []
  }
 ],
 "metadata": {
  "kernelspec": {
   "display_name": "R",
   "language": "R",
   "name": "ir"
  },
  "language_info": {
   "codemirror_mode": "r",
   "file_extension": ".r",
   "mimetype": "text/x-r-source",
   "name": "R",
   "pygments_lexer": "r",
   "version": "4.3.1"
  }
 },
 "nbformat": 4,
 "nbformat_minor": 5
}
